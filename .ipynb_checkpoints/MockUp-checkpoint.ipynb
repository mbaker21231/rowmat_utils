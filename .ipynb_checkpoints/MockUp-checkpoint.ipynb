{
 "cells": [
  {
   "cell_type": "markdown",
   "id": "blind-surface",
   "metadata": {},
   "source": [
    "# A guide to some of the rowmat_utils functions\n",
    "\n",
    "Using some of the ```rowmat_utils``` functions to get reacclimated, and gearing up to do some additional programming."
   ]
  },
  {
   "cell_type": "code",
   "execution_count": 1,
   "id": "several-bundle",
   "metadata": {},
   "outputs": [
    {
     "name": "stdout",
     "output_type": "stream",
     "text": [
      "\n",
      "file c:\\ado\\personal\\lrowmat_utils.mlib could not be opened\n",
      "(2 lines skipped)\n"
     ]
    },
    {
     "name": "stderr",
     "output_type": "stream",
     "text": [
      "r(603);\n",
      "r(603);\n"
     ]
    },
    {
     "name": "stdout",
     "output_type": "stream",
     "text": [
      "\n",
      "\n"
     ]
    }
   ],
   "source": [
    "quietly do rowmat_utils_mata.do"
   ]
  },
  {
   "cell_type": "markdown",
   "id": "palestinian-lafayette",
   "metadata": {},
   "source": [
    "In spite of the above error being thrown, we still have a host of quantities defined in mata:"
   ]
  },
  {
   "cell_type": "code",
   "execution_count": 2,
   "id": "interior-reggae",
   "metadata": {},
   "outputs": [
    {
     "name": "stdout",
     "output_type": "stream",
     "text": [
      "\n",
      "      # bytes   type                        name and extent\n",
      "-------------------------------------------------------------------------------\n",
      "          440   real matrix                 rm_abscolsums()\n",
      "          364   real matrix                 rm_absrowsums()\n",
      "          224   real matrix                 rm_alpha0()\n",
      "          660   real matrix                 rm_matmult()\n",
      "          416   real matrix                 rm_matvecmult()\n",
      "          800   real matrix                 rm_newtinv()\n",
      "          364   real matrix                 rm_transpose()\n",
      "          100   real matrix                 rm_vecvecmult()\n",
      "-------------------------------------------------------------------------------\n"
     ]
    }
   ],
   "source": [
    "mata: mata describe"
   ]
  },
  {
   "cell_type": "markdown",
   "id": "flying-comedy",
   "metadata": {},
   "source": [
    "Quick refresher course in how to use these functions. First, we do the following:"
   ]
  },
  {
   "cell_type": "code",
   "execution_count": 3,
   "id": "twelve-actress",
   "metadata": {},
   "outputs": [
    {
     "name": "stdout",
     "output_type": "stream",
     "text": [
      "\n",
      "\n",
      "\n",
      "         1     2     3\n",
      "    +-------------------+\n",
      "  1 |   32    26    18  |\n",
      "  2 |   89    74    54  |\n",
      "  3 |  146   122    90  |\n",
      "    +-------------------+\n"
     ]
    }
   ],
   "source": [
    "mata: X = 1, 2, 3 \\ 4, 5, 6 \\ 7, 8, 9\n",
    "mata: Y = 9, 8, 7 \\ 7, 6, 4 \\ 3, 2, 1\n",
    "mata: X*Y"
   ]
  },
  {
   "cell_type": "code",
   "execution_count": 4,
   "id": "ready-martial",
   "metadata": {},
   "outputs": [
    {
     "name": "stdout",
     "output_type": "stream",
     "text": [
      "         1     2     3     4     5     6     7     8     9\n",
      "    +-------------------------------------------------------+\n",
      "  1 |   32    26    18    89    74    54   146   122    90  |\n",
      "    +-------------------------------------------------------+\n"
     ]
    }
   ],
   "source": [
    "mata: rm_matmult(rowshape(X, 1), rowshape(Y, 1))"
   ]
  },
  {
   "cell_type": "markdown",
   "id": "binding-champagne",
   "metadata": {},
   "source": [
    "No problems there. Now, let's think about a method for creating the shulz iteration, but we should do this in such a way that it conforms with the conventions developed for the Newton iterations..."
   ]
  },
  {
   "cell_type": "markdown",
   "id": "protective-organizer",
   "metadata": {},
   "source": [
    "## Schulz iteration\n",
    "\n",
    "To get a Matrix square root, we have the following algorithm (which avoids inversion and leverages routines as it can be done wholly with basic matrix operations:\n",
    "\n",
    "$$\n",
    "Y_0 = A, \\quad Z_0=I\n",
    "$$\n",
    "\n",
    "$$\n",
    "Y_{k+1} = \\frac{1}{2}\\left(3I-Z_kY_k\\right)\n",
    "$$\n",
    "$$\n",
    "Z_{k+1} = \\frac{1}{2}\\left(3I - Z_kY_k\\right)Z_k\n",
    "$$\n"
   ]
  },
  {
   "cell_type": "code",
   "execution_count": 5,
   "id": "unlikely-monster",
   "metadata": {},
   "outputs": [
    {
     "name": "stdout",
     "output_type": "stream",
     "text": [
      "\n",
      "------------------------------------------------- mata (type end to exit) ------\n",
      "\n",
      ">     {\n",
      ">         real matrix ZP, YP, Z, Y, K, Id\n",
      ">         real scalar i\n",
      ">         i=1\n",
      ">         Z = rowshape(I(sqrt(cols(A))), 1)\n",
      ">         Z = Z#J(rows(A), 1, 1)\n",
      ">         Id = Z#J(rows(A), 1, 1)\n",
      ">         Y = A\n",
      ">         do {\n",
      ">             K  = (3:*Id :- rm_matmult(Z, Y))\n",
      ">             YP = .5:*rm_matmult(Y, K)\n",
      ">             ZP = .5:*rm_matmult(K, Z)\n",
      ">             Y = YP\n",
      ">             Z = ZP\n",
      ">             i = i + 1    \n",
      ">             } while ( i <its  )\n",
      ">         return(Y)\n",
      ">     }\n",
      "note: argument tol unused\n",
      "\n",
      ": end\n",
      "--------------------------------------------------------------------------------\n"
     ]
    }
   ],
   "source": [
    "mata\n",
    "    real matrix rm_sqrt(real matrix A, real scalar tol, real scalar its)\n",
    "    {\n",
    "        real matrix ZP, YP, Z, Y, K, Id\n",
    "        real scalar i\n",
    "        \n",
    "        i=1\n",
    "        \n",
    "        Z = rowshape(I(sqrt(cols(A))), 1)\n",
    "        Z = Z#J(rows(A), 1, 1)\n",
    "        Id = Z#J(rows(A), 1, 1)\n",
    "        \n",
    "        Y = A\n",
    "        \n",
    "        do {\n",
    "            K  = (3:*Id :- rm_matmult(Z, Y))\n",
    "            YP = .5:*rm_matmult(Y, K)\n",
    "            ZP = .5:*rm_matmult(K, Z)\n",
    "            Y = YP\n",
    "            Z = ZP\n",
    "            i = i + 1    \n",
    "            } while ( i <its  )\n",
    "        \n",
    "        return(Y)\n",
    "    }\n",
    "end"
   ]
  },
  {
   "cell_type": "code",
   "execution_count": 6,
   "id": "thirty-maine",
   "metadata": {},
   "outputs": [
    {
     "name": "stdout",
     "output_type": "stream",
     "text": [
      "\n",
      "\n",
      "         1     2     3\n",
      "    +-------------------+\n",
      "  1 |    1     2    .5  |\n",
      "  2 |    0   1.5    .4  |\n",
      "  3 |   .1    .1   1.1  |\n",
      "    +-------------------+\n"
     ]
    }
   ],
   "source": [
    "mata: X = 1,2,.5 \\ 0, 1.5, .4 \\ .1, .1, 1.1\n",
    "mata: X"
   ]
  },
  {
   "cell_type": "code",
   "execution_count": 9,
   "id": "attended-crossing",
   "metadata": {},
   "outputs": [
    {
     "name": "stdout",
     "output_type": "stream",
     "text": [
      "\n",
      "\n",
      "\n",
      "\n",
      "         1     2     3     4     5     6     7     8     9\n",
      "    +-------------------------------------------------------+\n",
      "  1 |    1     2    .5     0   1.5    .4    .1    .1   1.1  |\n",
      "  2 |    1     2    .5     0   1.5    .4    .1    .1   1.1  |\n",
      "  3 |    1     2    .5     0   1.5    .4    .1    .1   1.1  |\n",
      "  4 |    2     3   1.5     1   2.5   1.4   1.1   1.1   2.1  |\n",
      "    +-------------------------------------------------------+\n"
     ]
    }
   ],
   "source": [
    "mata: XX = rowshape(X, 1)\n",
    "mata: XX = XX#J(4,1,1)\n",
    "mata: XX[4,] = XX[4,] :+ 1\n",
    "mata: XX"
   ]
  },
  {
   "cell_type": "code",
   "execution_count": 15,
   "id": "standard-ceramic",
   "metadata": {},
   "outputs": [
    {
     "name": "stdout",
     "output_type": "stream",
     "text": [
      "               rm_sqrt():  3200  conformability error\n",
      "                 <istmt>:     -  function returned error\n"
     ]
    },
    {
     "name": "stderr",
     "output_type": "stream",
     "text": [
      "r(3200);\n"
     ]
    },
    {
     "name": "stdout",
     "output_type": "stream",
     "text": [
      "\n"
     ]
    }
   ],
   "source": [
    "mata: rm_sqrt(XX[1::3,], .01, 20)"
   ]
  },
  {
   "cell_type": "code",
   "execution_count": 16,
   "id": "rough-settle",
   "metadata": {},
   "outputs": [
    {
     "name": "stdout",
     "output_type": "stream",
     "text": [
      "         1     2     3     4     5     6     7     8     9\n",
      "    +-------------------------------------------------------+\n",
      "  1 |    1     2    .5     0   1.5    .4    .1    .1   1.1  |\n",
      "  2 |    1     2    .5     0   1.5    .4    .1    .1   1.1  |\n",
      "  3 |    1     2    .5     0   1.5    .4    .1    .1   1.1  |\n",
      "    +-------------------------------------------------------+\n"
     ]
    }
   ],
   "source": [
    "mata: XX[1::3, ]"
   ]
  },
  {
   "cell_type": "code",
   "execution_count": null,
   "id": "fabulous-exposure",
   "metadata": {},
   "outputs": [],
   "source": []
  }
 ],
 "metadata": {
  "kernelspec": {
   "display_name": "Stata",
   "language": "stata",
   "name": "stata"
  },
  "language_info": {
   "codemirror_mode": "stata",
   "file_extension": ".do",
   "mimetype": "text/x-stata",
   "name": "stata",
   "version": "15.1"
  }
 },
 "nbformat": 4,
 "nbformat_minor": 5
}
